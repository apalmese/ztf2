{
 "cells": [
  {
   "cell_type": "code",
   "execution_count": 1,
   "metadata": {},
   "outputs": [],
   "source": [
    "import matplotlib.pyplot as plt\n",
    "import numpy as np\n",
    "import matplotlib\n",
    "import matplotlib.colors as colors\n",
    "#from partials import zintegral_fast, restrate_Ia, sigOM0sqinv\n",
    "from matplotlib import ticker, cm\n",
    "from astropy.cosmology import FlatLambdaCDM\n",
    "import scipy.integrate as integrate\n",
    "from matplotlib.ticker import ScalarFormatter, FormatStrFormatter\n",
    "import sys\n",
    "#sys.path.insert(1, '/Users/akim/project/PeculiarVelocity/doc/src/')\n",
    "\n",
    "import partials_fD2 "
   ]
  },
  {
   "cell_type": "code",
   "execution_count": 2,
   "metadata": {},
   "outputs": [
    {
     "name": "stdout",
     "output_type": "stream",
     "text": [
      "[[[ 3.98099824e-04 -2.02683053e-08 -2.83696194e-07  4.52481451e-06]\n",
      "  [-2.02683053e-08  1.05498822e-04  5.40943607e-08 -8.62778397e-07]\n",
      "  [-2.83696194e-07  5.40943607e-08  9.16633494e-05 -1.20763401e-05]\n",
      "  [ 4.52481451e-06 -8.62778397e-07 -1.20763401e-05  1.92611674e-04]]]\n",
      "[0.05 0.15 0.25] [0.53101399 0.55467625 0.56988571]\n"
     ]
    }
   ],
   "source": [
    "cov,z,fD = partials_fD2.set1(useGW=True)"
   ]
  },
  {
   "cell_type": "code",
   "execution_count": 4,
   "metadata": {},
   "outputs": [],
   "source": [
    "err=[]\n",
    "for  i in range(3): err.append(np.sqrt(cov[0][i,i]))"
   ]
  },
  {
   "cell_type": "code",
   "execution_count": 5,
   "metadata": {},
   "outputs": [
    {
     "name": "stdout",
     "output_type": "stream",
     "text": [
      "[[[ 8.69701634e-05 -4.50044100e-08 -2.14324255e-06  3.68225007e-06]\n",
      "  [-4.50044100e-08  5.62436376e-05  9.74714269e-08 -1.67463159e-07]\n",
      "  [-2.14324255e-06  9.74714269e-08  6.32988333e-05 -7.97508885e-06]\n",
      "  [ 3.68225007e-06 -1.67463159e-07 -7.97508885e-06  1.37017957e-05]]]\n",
      "[0.05 0.15 0.25] [0.53101399 0.55467625 0.56988571]\n"
     ]
    }
   ],
   "source": [
    "fD_var_SN = partials_fD2.set1(useGW=False)"
   ]
  },
  {
   "cell_type": "code",
   "execution_count": 7,
   "metadata": {},
   "outputs": [],
   "source": [
    "covSN,z,fD = fD_var_SN\n",
    "errSN=[]\n",
    "for  i in range(3): errSN.append(np.sqrt(covSN[0][i,i]))"
   ]
  },
  {
   "cell_type": "code",
   "execution_count": 78,
   "metadata": {},
   "outputs": [],
   "source": [
    "def plt_style():\n",
    "    plt.rcParams.update({\n",
    "                        'lines.linewidth':1.0,\n",
    "                        'lines.linestyle':'-',\n",
    "                        'lines.color':'black',\n",
    "                        'font.family':'serif',\n",
    "                        'font.weight':'normal',\n",
    "                        'font.size':13.0,\n",
    "                        'text.color':'black',\n",
    "                        'text.usetex':True,\n",
    "                        'axes.edgecolor':'black',\n",
    "                        'axes.linewidth':1.0,\n",
    "                        'axes.grid':False,\n",
    "                        'axes.titlesize':'x-large',\n",
    "                        'axes.labelsize':'x-large',\n",
    "                        'axes.labelweight':'normal',\n",
    "                        'axes.labelcolor':'black',\n",
    "                        'axes.formatter.limits':[-4,4],\n",
    "                        'xtick.major.size':7,\n",
    "                        'xtick.minor.size':4,\n",
    "                        'xtick.major.pad':8,\n",
    "                        'xtick.minor.pad':8,\n",
    "                        'xtick.labelsize':'medium',\n",
    "                        'xtick.minor.width':1.0,\n",
    "                        'xtick.major.width':1.0,\n",
    "                        'ytick.major.size':7,\n",
    "                        'ytick.minor.size':4,\n",
    "                        'ytick.major.pad':8,\n",
    "                        'ytick.minor.pad':8,\n",
    "                        'ytick.labelsize':'medium',\n",
    "                        'ytick.minor.width':1.0,\n",
    "                        'ytick.major.width':1.0,\n",
    "                        'legend.numpoints':1,\n",
    "                        #'legend.fontsize':'x-large',\n",
    "                        'legend.shadow':False,\n",
    "                        'legend.frameon':False})\n",
    "\n",
    "\n",
    "# These are the \"Tableau 20\" colors as RGB.\n",
    "tableau20 = [(31, 119, 180), (174, 199, 232), (255, 127, 14), (255, 187, 120),\n",
    "             (44, 160, 44), (152, 223, 138), (214, 39, 40), (255, 152, 150),\n",
    "             (148, 103, 189), (197, 176, 213), (140, 86, 75), (196, 156, 148),\n",
    "             (227, 119, 194), (247, 182, 210), (127, 127, 127), (199, 199, 199),\n",
    "             (188, 189, 34), (219, 219, 141), (23, 190, 207), (158, 218, 229)]\n",
    "\n",
    "# Tableau Color Blind 10\n",
    "tableau20blind = [(0, 107, 164), (255, 128, 14), (171, 171, 171), (89, 89, 89),\n",
    "             (95, 158, 209), (200, 82, 0), (137, 137, 137), (163, 200, 236),\n",
    "             (255, 188, 121), (207, 207, 207)]\n",
    "  \n",
    "# Rescale to values between 0 and 1 \n",
    "for i in range(len(tableau20)):  \n",
    "    r, g, b = tableau20[i]  \n",
    "    tableau20[i] = (r / 255., g / 255., b / 255.)\n",
    "for i in range(len(tableau20blind)):  \n",
    "    r, g, b = tableau20blind[i]  \n",
    "    tableau20blind[i] = (r / 255., g / 255., b / 255.)\n",
    "\n",
    "\n"
   ]
  },
  {
   "cell_type": "code",
   "execution_count": 79,
   "metadata": {},
   "outputs": [],
   "source": [
    "#external results\n",
    "\n",
    "#Wang \n",
    "y_w = 0.403\n",
    "yerr_w = 0.031\n",
    "z_w = 0.03\n",
    "\n",
    "#WIGGLEZ\n",
    "\n",
    "y_wi = [ 0.42,0.45, 0.43, 0.38 ]\n",
    "yerr_wi = [0.07,0.04,0.04,0.04]\n",
    "z_wi = [0.22, 0.41, 0.6, 0.78]\n",
    "\n",
    "#6dFGRS\n",
    "z_6 = 0.0674607714939523,\n",
    "y_6 = 0.42380952380952375\n",
    "yerr_6 = y_6- 0.3678571428571428\n",
    "\n",
    "#SDSS II MGS\n",
    "z_sm = 0.1509255475645636, \n",
    "y_sm = 0.4398809523809523\n",
    "yerr_sm = y_sm - 0.3202380952380952\n",
    "#0.15147311212814646, 0.5994047619047619\n",
    "\n",
    "#SDSS II LRG\n",
    "\n",
    "z_sl = [0.2505046583850932, 0.3713]\n",
    "y_sl = [0.35059523809523807,0.45892857142857135]\n",
    "yerr_sl = [0,0]\n",
    "yerr_sl[0] = y_sl[0]-0.29404761904761895\n",
    "yerr_sl[1] = y_sl[1]-0.4226190476190476\n",
    "\n",
    "#Vipers\n",
    "z_v = 0.8008009153318081\n",
    "y_v = 0.47023809523809523\n",
    "yerr_v = y_v - 0.38928571428571423\n",
    "\n"
   ]
  },
  {
   "cell_type": "code",
   "execution_count": 108,
   "metadata": {},
   "outputs": [],
   "source": [
    "#Theoretical prediction\n",
    "#from astropy.cosmology import FlatLambdaCDM\n",
    "\n",
    "gamma=0.55\n",
    "om0=0.3\n",
    "\n",
    "zs=np.linspace(0,0.85)\n",
    "\n",
    "fD_th = []\n",
    "for iz in zs: \n",
    "    a = 1./(1+iz)\n",
    "    f = partials_fD2.OmegaM(a,OmegaM0=om0)**gamma\n",
    "    D_ = partials_fD2.D(a,OmegaM0=om0,gamma=gamma)\n",
    "    fD_th.append(f*D_)\n",
    "    \n",
    "gamma=0.42\n",
    "fD_th_42 = []\n",
    "for iz in zs: \n",
    "    a = 1./(1+iz)\n",
    "    f = partials_fD2.OmegaM(a,OmegaM0=om0)**gamma\n",
    "    D_ = partials_fD2.D(a,OmegaM0=om0,gamma=gamma)\n",
    "    fD_th_42.append(f*D_)\n",
    "    \n",
    "gamma=0.68\n",
    "fD_th_68 = []\n",
    "for iz in zs: \n",
    "    a = 1./(1+iz)\n",
    "    f = partials_fD2.OmegaM(a,OmegaM0=om0)**gamma\n",
    "    D_ = partials_fD2.D(a,OmegaM0=om0,gamma=gamma)\n",
    "    fD_th_68.append(f*D_)"
   ]
  },
  {
   "cell_type": "code",
   "execution_count": 111,
   "metadata": {},
   "outputs": [
    {
     "data": {
      "image/png": "[encoded data removed]",
      "text/plain": [
       "<Figure size 432x288 with 1 Axes>"
      ]
     },
     "metadata": {
      "needs_background": "light"
     },
     "output_type": "display_data"
    }
   ],
   "source": [
    "plt_style()\n",
    "\n",
    "sigma8=0.81 #Change to Planck\n",
    "\n",
    "#fig = plt.figure()\n",
    "#ax = fig.add_subplot(111)\n",
    "#ax.set_aspect(3)\n",
    "plt.plot(zs,np.array(fD_th)*sigma8, c=tableau20[9], alpha=1,lw=3)\n",
    "plt.plot(zs,np.array(fD_th_42)*sigma8, c=tableau20[9], alpha=0.4,lw=3)\n",
    "plt.plot(zs,np.array(fD_th_68)*sigma8, c=tableau20[9], alpha=0.4,lw=3)\n",
    "\n",
    "plt.errorbar(z_wi,y_wi, yerr=yerr_wi, fmt='o', label='WiggleZ',c=tableau20blind[2])\n",
    "plt.errorbar(z_w,y_w, yerr=yerr_w, fmt='^', label='GW+PSCz (W17)',c=tableau20blind[3])\n",
    "\n",
    "plt.errorbar(z_6,y_6, yerr=yerr_6, fmt='o', label='6dFGRS',c=tableau20blind[5])\n",
    "plt.errorbar(z_sm,y_sm, yerr=yerr_sm, fmt='o', label='SDSS-II MGS',c=tableau20blind[6],alpha=0.8)\n",
    "plt.errorbar(z_sl,y_sl, yerr=yerr_sl, fmt='o', label='SDSS-LRG',c=tableau20blind[8])\n",
    "plt.errorbar(z_v,y_v, yerr=yerr_v, fmt='x', label='Vipers',c=tableau20blind[7])\n",
    "\n",
    "\n",
    "plt.errorbar(z+0.01,np.array(fD)*sigma8, yerr=np.array(errSN)*sigma8, fmt='v', label='SN',c=tableau20[1])#,markersize=8)\n",
    "plt.errorbar(z,np.array(fD)*sigma8, yerr=np.array(err)*sigma8, fmt='v', label='GW BNS',c=tableau20[0])#,markersize=8)\n",
    "\n",
    "\n",
    "\n",
    "#plt.ylim(0.2,0.5)\n",
    "plt.ylabel(r'$f\\sigma_8$')\n",
    "plt.xlabel('$z$')\n",
    "#plt.legend(fontsize=10) #loc=\"upper right\")#bbox_to_anchor=(1.04,1), loc=\"upper left\")\n",
    "plt.tight_layout()\n",
    "plt.savefig('fs8.png',dpi=250)"
   ]
  },
  {
   "cell_type": "code",
   "execution_count": null,
   "metadata": {},
   "outputs": [],
   "source": []
  }
 ],
 "metadata": {
  "kernelspec": {
   "display_name": "skymap-env",
   "language": "python",
   "name": "skymap-env"
  },
  "language_info": {
   "codemirror_mode": {
    "name": "ipython",
    "version": 3
   },
   "file_extension": ".py",
   "mimetype": "text/x-python",
   "name": "python",
   "nbconvert_exporter": "python",
   "pygments_lexer": "ipython3",
   "version": "3.7.3"
  }
 },
 "nbformat": 4,
 "nbformat_minor": 2
}
