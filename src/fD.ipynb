{
 "cells": [
  {
   "cell_type": "code",
   "execution_count": 1,
   "metadata": {},
   "outputs": [],
   "source": [
    "import matplotlib.pyplot as plt\n",
    "import numpy as np\n",
    "import matplotlib\n",
    "import matplotlib.colors as colors\n",
    "#from partials import zintegral_fast, restrate_Ia, sigOM0sqinv\n",
    "from matplotlib import ticker, cm\n",
    "from astropy.cosmology import FlatLambdaCDM\n",
    "import scipy.integrate as integrate\n",
    "from matplotlib.ticker import ScalarFormatter, FormatStrFormatter\n",
    "import sys\n",
    "#sys.path.insert(1, '/Users/akim/project/PeculiarVelocity/doc/src/')\n",
    "\n",
    "import partials_fD2 "
   ]
  },
  {
   "cell_type": "code",
   "execution_count": 2,
   "metadata": {},
   "outputs": [
    {
     "name": "stdout",
     "output_type": "stream",
     "text": [
      "[[[ 3.98099824e-04 -2.02683053e-08 -2.83696194e-07  4.52481451e-06]\n",
      "  [-2.02683053e-08  1.05498822e-04  5.40943607e-08 -8.62778397e-07]\n",
      "  [-2.83696194e-07  5.40943607e-08  9.16633494e-05 -1.20763401e-05]\n",
      "  [ 4.52481451e-06 -8.62778397e-07 -1.20763401e-05  1.92611674e-04]]]\n",
      "[0.05 0.15 0.25] [0.53101399 0.55467625 0.56988571]\n"
     ]
    }
   ],
   "source": [
    "cov,z,fD = partials_fD2.set1(useGW=True)"
   ]
  },
  {
   "cell_type": "code",
   "execution_count": 4,
   "metadata": {},
   "outputs": [],
   "source": [
    "err=[]\n",
    "for  i in range(3): err.append(np.sqrt(cov[0][i,i]))"
   ]
  },
  {
   "cell_type": "code",
   "execution_count": 5,
   "metadata": {},
   "outputs": [
    {
     "name": "stdout",
     "output_type": "stream",
     "text": [
      "[[[ 8.69701634e-05 -4.50044100e-08 -2.14324255e-06  3.68225007e-06]\n",
      "  [-4.50044100e-08  5.62436376e-05  9.74714269e-08 -1.67463159e-07]\n",
      "  [-2.14324255e-06  9.74714269e-08  6.32988333e-05 -7.97508885e-06]\n",
      "  [ 3.68225007e-06 -1.67463159e-07 -7.97508885e-06  1.37017957e-05]]]\n",
      "[0.05 0.15 0.25] [0.53101399 0.55467625 0.56988571]\n"
     ]
    }
   ],
   "source": [
    "fD_var_SN = partials_fD2.set1(useGW=False)"
   ]
  },
  {
   "cell_type": "code",
   "execution_count": 7,
   "metadata": {},
   "outputs": [],
   "source": [
    "covSN,z,fD = fD_var_SN\n",
    "errSN=[]\n",
    "for  i in range(3): errSN.append(np.sqrt(covSN[0][i,i]))"
   ]
  },
  {
   "cell_type": "code",
   "execution_count": 12,
   "metadata": {},
   "outputs": [],
   "source": [
    "def plt_style():\n",
    "    plt.rcParams.update({\n",
    "                        'lines.linewidth':1.0,\n",
    "                        'lines.linestyle':'-',\n",
    "                        'lines.color':'black',\n",
    "                        'font.family':'serif',\n",
    "                        'font.weight':'normal',\n",
    "                        'font.size':13.0,\n",
    "                        'text.color':'black',\n",
    "                        'text.usetex':True,\n",
    "                        'axes.edgecolor':'black',\n",
    "                        'axes.linewidth':1.0,\n",
    "                        'axes.grid':False,\n",
    "                        'axes.titlesize':'x-large',\n",
    "                        'axes.labelsize':'x-large',\n",
    "                        'axes.labelweight':'normal',\n",
    "                        'axes.labelcolor':'black',\n",
    "                        'axes.formatter.limits':[-4,4],\n",
    "                        'xtick.major.size':7,\n",
    "                        'xtick.minor.size':4,\n",
    "                        'xtick.major.pad':8,\n",
    "                        'xtick.minor.pad':8,\n",
    "                        'xtick.labelsize':'medium',\n",
    "                        'xtick.minor.width':1.0,\n",
    "                        'xtick.major.width':1.0,\n",
    "                        'ytick.major.size':7,\n",
    "                        'ytick.minor.size':4,\n",
    "                        'ytick.major.pad':8,\n",
    "                        'ytick.minor.pad':8,\n",
    "                        'ytick.labelsize':'medium',\n",
    "                        'ytick.minor.width':1.0,\n",
    "                        'ytick.major.width':1.0,\n",
    "                        'legend.numpoints':1,\n",
    "                        #'legend.fontsize':'x-large',\n",
    "                        'legend.shadow':False,\n",
    "                        'legend.frameon':False})\n",
    "\n",
    "\n",
    "# These are the \"Tableau 20\" colors as RGB.\n",
    "tableau20 = [(31, 119, 180), (174, 199, 232), (255, 127, 14), (255, 187, 120),\n",
    "             (44, 160, 44), (152, 223, 138), (214, 39, 40), (255, 152, 150),\n",
    "             (148, 103, 189), (197, 176, 213), (140, 86, 75), (196, 156, 148),\n",
    "             (227, 119, 194), (247, 182, 210), (127, 127, 127), (199, 199, 199),\n",
    "             (188, 189, 34), (219, 219, 141), (23, 190, 207), (158, 218, 229)]\n",
    "\n",
    "# Scale the RGB values to the [0, 1] range, which is the format matplotlib accepts.\n",
    "for i in range(len(tableau20)):\n",
    "    r, g, b = tableau20[i]\n",
    "    tableau20[i] = (r / 255., g / 255., b / 255.)\n",
    "\n",
    "\n"
   ]
  },
  {
   "cell_type": "code",
   "execution_count": 16,
   "metadata": {},
   "outputs": [
    {
     "data": {
      "image/png": "[encoded data removed]",
      "text/plain": [
       "<Figure size 432x288 with 1 Axes>"
      ]
     },
     "metadata": {
      "needs_background": "light"
     },
     "output_type": "display_data"
    }
   ],
   "source": [
    "plt_style()\n",
    "plt.errorbar(z,fD, yerr=err, fmt='o', label='GW BNS',c=tableau20[0])\n",
    "plt.errorbar(z+0.005,fD, yerr=errSN, fmt='o', label='SN',c=tableau20[1])\n",
    "plt.ylabel('$fD$')\n",
    "plt.xlabel('$z$')\n",
    "plt.legend()\n",
    "\n",
    "plt.tight_layout()\n",
    "plt.savefig('fD.png',dpi=250)"
   ]
  },
  {
   "cell_type": "code",
   "execution_count": null,
   "metadata": {},
   "outputs": [],
   "source": []
  }
 ],
 "metadata": {
  "kernelspec": {
   "display_name": "skymap-env",
   "language": "python",
   "name": "skymap-env"
  },
  "language_info": {
   "codemirror_mode": {
    "name": "ipython",
    "version": 3
   },
   "file_extension": ".py",
   "mimetype": "text/x-python",
   "name": "python",
   "nbconvert_exporter": "python",
   "pygments_lexer": "ipython3",
   "version": "3.7.3"
  }
 },
 "nbformat": 4,
 "nbformat_minor": 2
}
